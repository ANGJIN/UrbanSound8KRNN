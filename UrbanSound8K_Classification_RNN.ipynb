{
  "nbformat": 4,
  "nbformat_minor": 0,
  "metadata": {
    "colab": {
      "name": "UrbanSound8K_Classification_RNN.ipynb",
      "provenance": [],
      "collapsed_sections": [],
      "include_colab_link": true
    },
    "kernelspec": {
      "name": "python3",
      "display_name": "Python 3"
    },
    "accelerator": "GPU"
  },
  "cells": [
    {
      "cell_type": "markdown",
      "metadata": {
        "id": "view-in-github",
        "colab_type": "text"
      },
      "source": [
        "<a href=\"https://colab.research.google.com/github/ANGJIN/UrbanSound8KRNN/blob/master/UrbanSound8K_Classification_RNN.ipynb\" target=\"_parent\"><img src=\"https://colab.research.google.com/assets/colab-badge.svg\" alt=\"Open In Colab\"/></a>"
      ]
    },
    {
      "cell_type": "markdown",
      "metadata": {
        "id": "GOPXlbWOAAIN",
        "colab_type": "text"
      },
      "source": [
        "My UrbanSound8K data is in google drive.  \n",
        "So, mount google drive first"
      ]
    },
    {
      "cell_type": "code",
      "metadata": {
        "id": "a-eXN8cRBBIg",
        "colab_type": "code",
        "outputId": "34b6c7ff-4d88-40f2-c22a-799e9a729a79",
        "colab": {
          "base_uri": "https://localhost:8080/",
          "height": 122
        }
      },
      "source": [
        "from google.colab import drive\n",
        "drive.mount('/content/drive')"
      ],
      "execution_count": 1,
      "outputs": [
        {
          "output_type": "stream",
          "text": [
            "Go to this URL in a browser: https://accounts.google.com/o/oauth2/auth?client_id=947318989803-6bn6qk8qdgf4n4g3pfee6491hc0brc4i.apps.googleusercontent.com&redirect_uri=urn%3Aietf%3Awg%3Aoauth%3A2.0%3Aoob&scope=email%20https%3A%2F%2Fwww.googleapis.com%2Fauth%2Fdocs.test%20https%3A%2F%2Fwww.googleapis.com%2Fauth%2Fdrive%20https%3A%2F%2Fwww.googleapis.com%2Fauth%2Fdrive.photos.readonly%20https%3A%2F%2Fwww.googleapis.com%2Fauth%2Fpeopleapi.readonly&response_type=code\n",
            "\n",
            "Enter your authorization code:\n",
            "··········\n",
            "Mounted at /content/drive\n"
          ],
          "name": "stdout"
        }
      ]
    },
    {
      "cell_type": "markdown",
      "metadata": {
        "id": "Vp_hPYbKdH0S",
        "colab_type": "text"
      },
      "source": [
        "Change present working directory to urban sound classification directory  \n",
        "which is in mounted Google drive."
      ]
    },
    {
      "cell_type": "code",
      "metadata": {
        "id": "kGXyNkbJBqdx",
        "colab_type": "code",
        "outputId": "a3407e57-7aea-4424-f507-5d0cd5fa919f",
        "colab": {
          "base_uri": "https://localhost:8080/",
          "height": 34
        }
      },
      "source": [
        "%cd 'drive/My Drive/urban sound classification'"
      ],
      "execution_count": 2,
      "outputs": [
        {
          "output_type": "stream",
          "text": [
            "/content/drive/My Drive/urban sound classification\n"
          ],
          "name": "stdout"
        }
      ]
    },
    {
      "cell_type": "markdown",
      "metadata": {
        "id": "puhZ8q96dhSn",
        "colab_type": "text"
      },
      "source": [
        "Import modules"
      ]
    },
    {
      "cell_type": "code",
      "metadata": {
        "id": "sINrAeP7Fw3l",
        "colab_type": "code",
        "outputId": "3426c18a-e547-4660-834c-c8dd34385673",
        "colab": {
          "base_uri": "https://localhost:8080/",
          "height": 80
        }
      },
      "source": [
        "import glob\n",
        "import os\n",
        "import librosa\n",
        "import matplotlib.pyplot as plt\n",
        "%matplotlib inline\n",
        "import numpy as np\n",
        "from IPython.display import SVG\n",
        "import keras\n",
        "from keras.utils.vis_utils import model_to_dot\n",
        "from keras.models import Sequential, load_model\n",
        "from keras.layers import LSTM, Activation\n",
        "from keras.layers import Dropout, Dense, Flatten, BatchNormalization\n",
        "from keras.callbacks import ModelCheckpoint"
      ],
      "execution_count": 4,
      "outputs": [
        {
          "output_type": "stream",
          "text": [
            "Using TensorFlow backend.\n"
          ],
          "name": "stderr"
        },
        {
          "output_type": "display_data",
          "data": {
            "text/html": [
              "<p style=\"color: red;\">\n",
              "The default version of TensorFlow in Colab will soon switch to TensorFlow 2.x.<br>\n",
              "We recommend you <a href=\"https://www.tensorflow.org/guide/migrate\" target=\"_blank\">upgrade</a> now \n",
              "or ensure your notebook will continue to use TensorFlow 1.x via the <code>%tensorflow_version 1.x</code> magic:\n",
              "<a href=\"https://colab.research.google.com/notebooks/tensorflow_version.ipynb\" target=\"_blank\">more info</a>.</p>\n"
            ],
            "text/plain": [
              "<IPython.core.display.HTML object>"
            ]
          },
          "metadata": {
            "tags": []
          }
        }
      ]
    },
    {
      "cell_type": "markdown",
      "metadata": {
        "id": "Fl56aaTJd4_7",
        "colab_type": "text"
      },
      "source": [
        "Below, there are some functions to load and pre-process data."
      ]
    },
    {
      "cell_type": "code",
      "metadata": {
        "id": "PB5WKi1lwOCP",
        "colab_type": "code",
        "colab": {}
      },
      "source": [
        "def windows(data, window_size):\n",
        "    start = 0\n",
        "    while start < len(data):\n",
        "        yield int(start), int(start + window_size)\n",
        "        start += (window_size / 2)"
      ],
      "execution_count": 0,
      "outputs": []
    },
    {
      "cell_type": "markdown",
      "metadata": {
        "id": "nqPDritOeG0x",
        "colab_type": "text"
      },
      "source": [
        "generator function for 'windowing' data.  \n",
        "returns indices of start and end of each window, size of parameter 'window_size'  \n",
        "As you can see in code. windows are overlapped of half-window size"
      ]
    },
    {
      "cell_type": "code",
      "metadata": {
        "id": "K3hYEJ4-dxrK",
        "colab_type": "code",
        "colab": {}
      },
      "source": [
        "import pickle\n",
        "def extract_features(parent_dir,sub_dirs,file_ext=\"*.wav\",bands = 20, frames = 41):\n",
        "    window_size = 512 * (frames - 1)\n",
        "    for l, sub_dir in enumerate(sub_dirs):\n",
        "        mfccs = []\n",
        "        log_specgrams = []\n",
        "        labels = []\n",
        "        for fn in glob.glob(os.path.join(parent_dir, sub_dir, file_ext)):\n",
        "            sound_clip,s = librosa.load(fn)\n",
        "            #UrbanSound8K/audio/fold*/*.wav\n",
        "            label = fn.split('/')[-1].split('-')[1]\n",
        "            for (start,end) in windows(sound_clip,window_size):\n",
        "              if len(sound_clip[start:end]) == window_size:\n",
        "                signal = sound_clip[start:end]\n",
        "                #melspec = librosa.feature.melspectrogram(signal, n_mels = bands)\n",
        "                #logspec = librosa.amplitude_to_db(melspec)\n",
        "                #logspec = logspec.T.flatten()[:, np.newaxis].T\n",
        "                #log_specgrams.append(logspec)\n",
        "                mfcc = librosa.feature.mfcc(y=signal, sr=s, n_mfcc = bands).T.flatten()[:, np.newaxis].T\n",
        "                mfccs.append(mfcc)\n",
        "                labels.append(label)         \n",
        "        #feature = np.hstack(mfcc, logspec)\n",
        "        feature = np.asarray(mfccs).reshape(len(mfccs),frames,bands)\n",
        "        filename = 'mfcc_features_{}.pk'.format(sub_dir)\n",
        "        #filename = 'melspec_mfcc_features_{}.pk'.format(sub_dir)\n",
        "        f=open(filename,'wb')\n",
        "        pickle.dump(feature,f)\n",
        "        f.close()\n",
        "        filename = 'mfcc_labels_{}.pk'.format(sub_dir)\n",
        "        f=open(filename,'wb')\n",
        "        pickle.dump(labels,f)\n",
        "        f.close()\n",
        "        print('finish loading {}, shape : {}'.format(sub_dir,feature.shape))\n",
        "    #features = np.hstack((mfccs, log_specgrams))\n",
        "    #features = np.asarray(features).reshape(len(features),frames,bands)"
      ],
      "execution_count": 0,
      "outputs": []
    },
    {
      "cell_type": "code",
      "metadata": {
        "id": "EKKl782Ovxce",
        "colab_type": "code",
        "outputId": "b18da1ef-42b9-4288-d615-8fc412728f01",
        "colab": {
          "base_uri": "https://localhost:8080/",
          "height": 51
        }
      },
      "source": [
        "sub_dirs = ['fold{}'.format(i) for i in range(9,11)]\n",
        "extract_features(parent_dir,sub_dirs)"
      ],
      "execution_count": 0,
      "outputs": [
        {
          "output_type": "stream",
          "text": [
            "finish loading fold9, shape : (5118, 41, 20)\n",
            "finish loading fold10, shape : (5218, 41, 20)\n"
          ],
          "name": "stdout"
        }
      ]
    },
    {
      "cell_type": "markdown",
      "metadata": {
        "id": "gwWNOAJlfMPk",
        "colab_type": "text"
      },
      "source": [
        "Read and pre-process all data in each 'fold_'.  \n",
        "Open and process each wav data with librosa.mfcc module and return list of data and labels."
      ]
    },
    {
      "cell_type": "code",
      "metadata": {
        "id": "0Obk0W3edzD0",
        "colab_type": "code",
        "colab": {}
      },
      "source": [
        "def one_hot_encode(labels):\n",
        "    n_labels = len(labels)\n",
        "    labels = np.asarray(labels, dtype=np.int)\n",
        "    n_unique_labels = len(np.unique(labels))\n",
        "    one_hot_encode = np.zeros((n_labels,n_unique_labels))\n",
        "    one_hot_encode[np.arange(n_labels), labels] = 1\n",
        "    return one_hot_encode"
      ],
      "execution_count": 0,
      "outputs": []
    },
    {
      "cell_type": "markdown",
      "metadata": {
        "id": "fBOmTwTFgzZY",
        "colab_type": "text"
      },
      "source": [
        "One hot encoding function. labels returned from extract_features function is like  \n",
        "[1,3,2,...].  \n",
        "We have to convert this labels to form of one hot encode data like  \n",
        "[[0,1,0,0,0,0,...]   \n",
        " [0,0,0,1,0,0,...]  \n",
        " [0,0,1,0,0,0,...]...]."
      ]
    },
    {
      "cell_type": "markdown",
      "metadata": {
        "id": "Qyyn7dqvhtsQ",
        "colab_type": "text"
      },
      "source": [
        "We will use data in fold1-6 to train.  \n",
        "Use data in fold7-9 to validate.  \n",
        "Use data in fold10 to test model."
      ]
    },
    {
      "cell_type": "code",
      "metadata": {
        "id": "wVjqM9YRxXfK",
        "colab_type": "code",
        "colab": {}
      },
      "source": [
        "import pickle\n",
        "tr_features = []\n",
        "tr_labels = []\n",
        "ts_features = []\n",
        "ts_labels = []\n",
        "\n",
        "for sub_dir in ['fold{}'.format(i) for i in range(1,10)] :\n",
        "  feature_file = 'mfcc_features_{}.pk'.format(sub_dir)\n",
        "  label_file = 'mfcc_labels_{}.pk'.format(sub_dir)\n",
        "  f1=open(feature_file,'rb')\n",
        "  f2=open(label_file,'rb')\n",
        "  tmp_features = pickle.load(f1)\n",
        "  tmp_labels = pickle.load(f2)\n",
        "  f1.close()\n",
        "  f2.close()\n",
        "  tr_features.extend(tmp_features)\n",
        "  tr_labels.extend(tmp_labels)\n",
        "tr_features=np.asarray(tr_features)\n",
        "tr_labels=one_hot_encode(tr_labels)\n",
        "\n",
        "for sub_dir in ['fold{}'.format(i) for i in range(7,10)] :\n",
        "  feature_file = 'mfcc_features_{}.pk'.format(sub_dir)\n",
        "  label_file = 'mfcc_labels_{}.pk'.format(sub_dir)\n",
        "  f1=open(feature_file,'rb')\n",
        "  f2=open(label_file,'rb')\n",
        "  tmp_features = pickle.load(f1)\n",
        "  tmp_labels = pickle.load(f2)\n",
        "  f1.close()\n",
        "  f2.close()\n",
        "  ts_features.extend(tmp_features)\n",
        "  ts_labels.extend(tmp_labels)\n",
        "ts_features=np.asarray(ts_features)\n",
        "ts_labels=one_hot_encode(ts_labels)\n",
        "\n",
        "sub_dir = 'fold10' #10 fold for test data\n",
        "feature_file = 'mfcc_features_{}.pk'.format(sub_dir)\n",
        "label_file = 'mfcc_labels_{}.pk'.format(sub_dir)\n",
        "f1=open(feature_file,'rb')\n",
        "f2=open(label_file,'rb')\n",
        "test_features = pickle.load(f1)\n",
        "test_labels = pickle.load(f2)\n",
        "f1.close()\n",
        "f2.close()\n",
        "test_features = np.asarray(test_features)\n",
        "test_labels = one_hot_encode(test_labels)"
      ],
      "execution_count": 0,
      "outputs": []
    },
    {
      "cell_type": "markdown",
      "metadata": {
        "id": "r9-mbxaii6a3",
        "colab_type": "text"
      },
      "source": [
        "Ok, now let's check data shape."
      ]
    },
    {
      "cell_type": "code",
      "metadata": {
        "id": "m_ziJ7eX7cb-",
        "colab_type": "code",
        "outputId": "49f75e78-605a-4659-d3dc-5aa6fdbe08aa",
        "colab": {
          "base_uri": "https://localhost:8080/",
          "height": 68
        }
      },
      "source": [
        "print(tr_features.shape, tr_labels.shape)\n",
        "print(ts_features.shape, ts_labels.shape)\n",
        "print(test_features.shape, test_labels.shape)"
      ],
      "execution_count": 0,
      "outputs": [
        {
          "output_type": "stream",
          "text": [
            "(48840, 41, 20) (48840, 10)\n",
            "(15337, 41, 20) (15337, 10)\n",
            "(5218, 41, 20) (5218, 10)\n"
          ],
          "name": "stdout"
        }
      ]
    },
    {
      "cell_type": "markdown",
      "metadata": {
        "id": "MGxXXNj9jB1k",
        "colab_type": "text"
      },
      "source": [
        "I intend to split data size of train : validate : test to 6:3:1  "
      ]
    },
    {
      "cell_type": "code",
      "metadata": {
        "id": "QHBhvhWP1tL0",
        "colab_type": "code",
        "colab": {}
      },
      "source": [
        "# Training Parameters\n",
        "epochs = 50\n",
        "batch_size = 50\n",
        "\n",
        "# Network Parameters\n",
        "n_input = 40\n",
        "n_steps = 41\n",
        "n_hidden = 20\n",
        "n_classes = 10\n",
        "use_dropout = False"
      ],
      "execution_count": 0,
      "outputs": []
    },
    {
      "cell_type": "markdown",
      "metadata": {
        "id": "p_x2qvXHjtnZ",
        "colab_type": "text"
      },
      "source": [
        "I build RNN model with 2 layers of LSTM and Dense layer is following after those layers."
      ]
    },
    {
      "cell_type": "code",
      "metadata": {
        "id": "FVqmyfzKx3J5",
        "colab_type": "code",
        "outputId": "92990dc8-9aee-4db4-a105-ddd6f23ff996",
        "colab": {
          "base_uri": "https://localhost:8080/",
          "height": 139
        }
      },
      "source": [
        "model = Sequential()\n",
        "model.add(LSTM(n_hidden, input_shape=(n_steps,n_hidden), return_sequences=True))\n",
        "model.add(LSTM(n_hidden, return_sequences=False))\n",
        "model.add(Dense(n_classes))\n",
        "model.add(Activation('softmax'))"
      ],
      "execution_count": 0,
      "outputs": [
        {
          "output_type": "stream",
          "text": [
            "WARNING:tensorflow:From /usr/local/lib/python3.6/dist-packages/keras/backend/tensorflow_backend.py:66: The name tf.get_default_graph is deprecated. Please use tf.compat.v1.get_default_graph instead.\n",
            "\n",
            "WARNING:tensorflow:From /usr/local/lib/python3.6/dist-packages/keras/backend/tensorflow_backend.py:541: The name tf.placeholder is deprecated. Please use tf.compat.v1.placeholder instead.\n",
            "\n",
            "WARNING:tensorflow:From /usr/local/lib/python3.6/dist-packages/keras/backend/tensorflow_backend.py:4432: The name tf.random_uniform is deprecated. Please use tf.random.uniform instead.\n",
            "\n"
          ],
          "name": "stdout"
        }
      ]
    },
    {
      "cell_type": "code",
      "metadata": {
        "id": "clWx_Jly3S1z",
        "colab_type": "code",
        "outputId": "65479e01-fb93-417a-f504-47a64d307813",
        "colab": {
          "base_uri": "https://localhost:8080/",
          "height": 486
        }
      },
      "source": [
        "SVG(model_to_dot(model, show_shapes=True, dpi=65).create(prog='dot', format='svg'))"
      ],
      "execution_count": 0,
      "outputs": [
        {
          "output_type": "execute_result",
          "data": {
            "text/plain": [
              "<IPython.core.display.SVG object>"
            ],
            "image/svg+xml": "<svg height=\"349pt\" viewBox=\"0.00 0.00 332.00 387.00\" width=\"300pt\" xmlns=\"http://www.w3.org/2000/svg\" xmlns:xlink=\"http://www.w3.org/1999/xlink\">\n<g class=\"graph\" id=\"graph0\" transform=\"scale(.9028 .9028) rotate(0) translate(4 383)\">\n<title>G</title>\n<polygon fill=\"#ffffff\" points=\"-4,4 -4,-383 328,-383 328,4 -4,4\" stroke=\"transparent\"/>\n<!-- 139920941282864 -->\n<g class=\"node\" id=\"node1\">\n<title>139920941282864</title>\n<polygon fill=\"none\" points=\"0,-332.5 0,-378.5 324,-378.5 324,-332.5 0,-332.5\" stroke=\"#000000\"/>\n<text fill=\"#000000\" font-family=\"Times,serif\" font-size=\"14.00\" text-anchor=\"middle\" x=\"82\" y=\"-351.8\">lstm_1_input: InputLayer</text>\n<polyline fill=\"none\" points=\"164,-332.5 164,-378.5 \" stroke=\"#000000\"/>\n<text fill=\"#000000\" font-family=\"Times,serif\" font-size=\"14.00\" text-anchor=\"middle\" x=\"193\" y=\"-363.3\">input:</text>\n<polyline fill=\"none\" points=\"164,-355.5 222,-355.5 \" stroke=\"#000000\"/>\n<text fill=\"#000000\" font-family=\"Times,serif\" font-size=\"14.00\" text-anchor=\"middle\" x=\"193\" y=\"-340.3\">output:</text>\n<polyline fill=\"none\" points=\"222,-332.5 222,-378.5 \" stroke=\"#000000\"/>\n<text fill=\"#000000\" font-family=\"Times,serif\" font-size=\"14.00\" text-anchor=\"middle\" x=\"273\" y=\"-363.3\">(None, 41, 20)</text>\n<polyline fill=\"none\" points=\"222,-355.5 324,-355.5 \" stroke=\"#000000\"/>\n<text fill=\"#000000\" font-family=\"Times,serif\" font-size=\"14.00\" text-anchor=\"middle\" x=\"273\" y=\"-340.3\">(None, 41, 20)</text>\n</g>\n<!-- 139920941281744 -->\n<g class=\"node\" id=\"node2\">\n<title>139920941281744</title>\n<polygon fill=\"none\" points=\"31,-249.5 31,-295.5 293,-295.5 293,-249.5 31,-249.5\" stroke=\"#000000\"/>\n<text fill=\"#000000\" font-family=\"Times,serif\" font-size=\"14.00\" text-anchor=\"middle\" x=\"82\" y=\"-268.8\">lstm_1: LSTM</text>\n<polyline fill=\"none\" points=\"133,-249.5 133,-295.5 \" stroke=\"#000000\"/>\n<text fill=\"#000000\" font-family=\"Times,serif\" font-size=\"14.00\" text-anchor=\"middle\" x=\"162\" y=\"-280.3\">input:</text>\n<polyline fill=\"none\" points=\"133,-272.5 191,-272.5 \" stroke=\"#000000\"/>\n<text fill=\"#000000\" font-family=\"Times,serif\" font-size=\"14.00\" text-anchor=\"middle\" x=\"162\" y=\"-257.3\">output:</text>\n<polyline fill=\"none\" points=\"191,-249.5 191,-295.5 \" stroke=\"#000000\"/>\n<text fill=\"#000000\" font-family=\"Times,serif\" font-size=\"14.00\" text-anchor=\"middle\" x=\"242\" y=\"-280.3\">(None, 41, 20)</text>\n<polyline fill=\"none\" points=\"191,-272.5 293,-272.5 \" stroke=\"#000000\"/>\n<text fill=\"#000000\" font-family=\"Times,serif\" font-size=\"14.00\" text-anchor=\"middle\" x=\"242\" y=\"-257.3\">(None, 41, 20)</text>\n</g>\n<!-- 139920941282864&#45;&gt;139920941281744 -->\n<g class=\"edge\" id=\"edge1\">\n<title>139920941282864-&gt;139920941281744</title>\n<path d=\"M162,-332.3799C162,-324.1745 162,-314.7679 162,-305.8786\" fill=\"none\" stroke=\"#000000\"/>\n<polygon fill=\"#000000\" points=\"165.5001,-305.784 162,-295.784 158.5001,-305.784 165.5001,-305.784\" stroke=\"#000000\"/>\n</g>\n<!-- 139920941282752 -->\n<g class=\"node\" id=\"node3\">\n<title>139920941282752</title>\n<polygon fill=\"none\" points=\"31,-166.5 31,-212.5 293,-212.5 293,-166.5 31,-166.5\" stroke=\"#000000\"/>\n<text fill=\"#000000\" font-family=\"Times,serif\" font-size=\"14.00\" text-anchor=\"middle\" x=\"82\" y=\"-185.8\">lstm_2: LSTM</text>\n<polyline fill=\"none\" points=\"133,-166.5 133,-212.5 \" stroke=\"#000000\"/>\n<text fill=\"#000000\" font-family=\"Times,serif\" font-size=\"14.00\" text-anchor=\"middle\" x=\"162\" y=\"-197.3\">input:</text>\n<polyline fill=\"none\" points=\"133,-189.5 191,-189.5 \" stroke=\"#000000\"/>\n<text fill=\"#000000\" font-family=\"Times,serif\" font-size=\"14.00\" text-anchor=\"middle\" x=\"162\" y=\"-174.3\">output:</text>\n<polyline fill=\"none\" points=\"191,-166.5 191,-212.5 \" stroke=\"#000000\"/>\n<text fill=\"#000000\" font-family=\"Times,serif\" font-size=\"14.00\" text-anchor=\"middle\" x=\"242\" y=\"-197.3\">(None, 41, 20)</text>\n<polyline fill=\"none\" points=\"191,-189.5 293,-189.5 \" stroke=\"#000000\"/>\n<text fill=\"#000000\" font-family=\"Times,serif\" font-size=\"14.00\" text-anchor=\"middle\" x=\"242\" y=\"-174.3\">(None, 20)</text>\n</g>\n<!-- 139920941281744&#45;&gt;139920941282752 -->\n<g class=\"edge\" id=\"edge2\">\n<title>139920941281744-&gt;139920941282752</title>\n<path d=\"M162,-249.3799C162,-241.1745 162,-231.7679 162,-222.8786\" fill=\"none\" stroke=\"#000000\"/>\n<polygon fill=\"#000000\" points=\"165.5001,-222.784 162,-212.784 158.5001,-222.784 165.5001,-222.784\" stroke=\"#000000\"/>\n</g>\n<!-- 139920539565304 -->\n<g class=\"node\" id=\"node4\">\n<title>139920539565304</title>\n<polygon fill=\"none\" points=\"39.5,-83.5 39.5,-129.5 284.5,-129.5 284.5,-83.5 39.5,-83.5\" stroke=\"#000000\"/>\n<text fill=\"#000000\" font-family=\"Times,serif\" font-size=\"14.00\" text-anchor=\"middle\" x=\"93\" y=\"-102.8\">dense_1: Dense</text>\n<polyline fill=\"none\" points=\"146.5,-83.5 146.5,-129.5 \" stroke=\"#000000\"/>\n<text fill=\"#000000\" font-family=\"Times,serif\" font-size=\"14.00\" text-anchor=\"middle\" x=\"175.5\" y=\"-114.3\">input:</text>\n<polyline fill=\"none\" points=\"146.5,-106.5 204.5,-106.5 \" stroke=\"#000000\"/>\n<text fill=\"#000000\" font-family=\"Times,serif\" font-size=\"14.00\" text-anchor=\"middle\" x=\"175.5\" y=\"-91.3\">output:</text>\n<polyline fill=\"none\" points=\"204.5,-83.5 204.5,-129.5 \" stroke=\"#000000\"/>\n<text fill=\"#000000\" font-family=\"Times,serif\" font-size=\"14.00\" text-anchor=\"middle\" x=\"244.5\" y=\"-114.3\">(None, 20)</text>\n<polyline fill=\"none\" points=\"204.5,-106.5 284.5,-106.5 \" stroke=\"#000000\"/>\n<text fill=\"#000000\" font-family=\"Times,serif\" font-size=\"14.00\" text-anchor=\"middle\" x=\"244.5\" y=\"-91.3\">(None, 10)</text>\n</g>\n<!-- 139920941282752&#45;&gt;139920539565304 -->\n<g class=\"edge\" id=\"edge3\">\n<title>139920941282752-&gt;139920539565304</title>\n<path d=\"M162,-166.3799C162,-158.1745 162,-148.7679 162,-139.8786\" fill=\"none\" stroke=\"#000000\"/>\n<polygon fill=\"#000000\" points=\"165.5001,-139.784 162,-129.784 158.5001,-139.784 165.5001,-139.784\" stroke=\"#000000\"/>\n</g>\n<!-- 139920539085512 -->\n<g class=\"node\" id=\"node5\">\n<title>139920539085512</title>\n<polygon fill=\"none\" points=\"16,-.5 16,-46.5 308,-46.5 308,-.5 16,-.5\" stroke=\"#000000\"/>\n<text fill=\"#000000\" font-family=\"Times,serif\" font-size=\"14.00\" text-anchor=\"middle\" x=\"93\" y=\"-19.8\">activation_1: Activation</text>\n<polyline fill=\"none\" points=\"170,-.5 170,-46.5 \" stroke=\"#000000\"/>\n<text fill=\"#000000\" font-family=\"Times,serif\" font-size=\"14.00\" text-anchor=\"middle\" x=\"199\" y=\"-31.3\">input:</text>\n<polyline fill=\"none\" points=\"170,-23.5 228,-23.5 \" stroke=\"#000000\"/>\n<text fill=\"#000000\" font-family=\"Times,serif\" font-size=\"14.00\" text-anchor=\"middle\" x=\"199\" y=\"-8.3\">output:</text>\n<polyline fill=\"none\" points=\"228,-.5 228,-46.5 \" stroke=\"#000000\"/>\n<text fill=\"#000000\" font-family=\"Times,serif\" font-size=\"14.00\" text-anchor=\"middle\" x=\"268\" y=\"-31.3\">(None, 10)</text>\n<polyline fill=\"none\" points=\"228,-23.5 308,-23.5 \" stroke=\"#000000\"/>\n<text fill=\"#000000\" font-family=\"Times,serif\" font-size=\"14.00\" text-anchor=\"middle\" x=\"268\" y=\"-8.3\">(None, 10)</text>\n</g>\n<!-- 139920539565304&#45;&gt;139920539085512 -->\n<g class=\"edge\" id=\"edge4\">\n<title>139920539565304-&gt;139920539085512</title>\n<path d=\"M162,-83.3799C162,-75.1745 162,-65.7679 162,-56.8786\" fill=\"none\" stroke=\"#000000\"/>\n<polygon fill=\"#000000\" points=\"165.5001,-56.784 162,-46.784 158.5001,-56.784 165.5001,-56.784\" stroke=\"#000000\"/>\n</g>\n</g>\n</svg>"
          },
          "metadata": {
            "tags": []
          },
          "execution_count": 13
        }
      ]
    },
    {
      "cell_type": "markdown",
      "metadata": {
        "id": "VqfP3jOQj-XW",
        "colab_type": "text"
      },
      "source": [
        "Use adam optimizer, categorical crossentropy for loss function and categorical accuracy for metric."
      ]
    },
    {
      "cell_type": "code",
      "metadata": {
        "id": "kTsCBH1x3f_y",
        "colab_type": "code",
        "outputId": "59af7b2a-199c-4a53-ca66-8f4166676e57",
        "colab": {
          "base_uri": "https://localhost:8080/",
          "height": 377
        }
      },
      "source": [
        "model.compile(loss='categorical_crossentropy', optimizer='adam', metrics=['categorical_accuracy'])\n",
        "model.summary()"
      ],
      "execution_count": 0,
      "outputs": [
        {
          "output_type": "stream",
          "text": [
            "WARNING:tensorflow:From /usr/local/lib/python3.6/dist-packages/keras/optimizers.py:793: The name tf.train.Optimizer is deprecated. Please use tf.compat.v1.train.Optimizer instead.\n",
            "\n",
            "WARNING:tensorflow:From /usr/local/lib/python3.6/dist-packages/keras/backend/tensorflow_backend.py:3576: The name tf.log is deprecated. Please use tf.math.log instead.\n",
            "\n",
            "Model: \"sequential_1\"\n",
            "_________________________________________________________________\n",
            "Layer (type)                 Output Shape              Param #   \n",
            "=================================================================\n",
            "lstm_1 (LSTM)                (None, 41, 20)            3280      \n",
            "_________________________________________________________________\n",
            "lstm_2 (LSTM)                (None, 20)                3280      \n",
            "_________________________________________________________________\n",
            "dense_1 (Dense)              (None, 10)                210       \n",
            "_________________________________________________________________\n",
            "activation_1 (Activation)    (None, 10)                0         \n",
            "=================================================================\n",
            "Total params: 6,770\n",
            "Trainable params: 6,770\n",
            "Non-trainable params: 0\n",
            "_________________________________________________________________\n"
          ],
          "name": "stdout"
        }
      ]
    },
    {
      "cell_type": "code",
      "metadata": {
        "id": "eO7mhGWVBGnR",
        "colab_type": "code",
        "colab": {}
      },
      "source": [
        "checkpointer = ModelCheckpoint(filepath='2LSTM_hidden20-{epoch:02d}.hdf5', verbose=1)"
      ],
      "execution_count": 0,
      "outputs": []
    },
    {
      "cell_type": "markdown",
      "metadata": {
        "id": "PBNsHh7bvmoz",
        "colab_type": "text"
      },
      "source": [
        "save model for each epoch"
      ]
    },
    {
      "cell_type": "code",
      "metadata": {
        "id": "IzkdguIBFJPD",
        "colab_type": "code",
        "outputId": "94843c1b-bf6a-4580-cdcc-735835bf1a1e",
        "colab": {
          "base_uri": "https://localhost:8080/",
          "height": 292
        }
      },
      "source": [
        "import time\n",
        "start = time.time()\n",
        "model.fit(tr_features,tr_labels,epochs=epochs,batch_size=batch_size,validation_data=(ts_features,ts_labels), callbacks=[checkpointer])\n",
        "end = time.time()\n",
        "elapsed_time = end-start\n",
        "print(\"learning time : {}\".format(elapsed_time))"
      ],
      "execution_count": 0,
      "outputs": [
        {
          "output_type": "stream",
          "text": [
            "Train on 48840 samples, validate on 15337 samples\n",
            "Epoch 1/50\n",
            "48840/48840 [==============================] - 176s 4ms/step - loss: 1.0335 - categorical_accuracy: 0.6670 - val_loss: 0.9204 - val_categorical_accuracy: 0.7091\n",
            "\n",
            "Epoch 00001: saving model to 2LSTM_hidden20-01.hdf5\n",
            "Epoch 2/50\n",
            "48840/48840 [==============================] - 174s 4ms/step - loss: 0.9361 - categorical_accuracy: 0.7024 - val_loss: 0.8342 - val_categorical_accuracy: 0.7402\n",
            "\n",
            "Epoch 00002: saving model to 2LSTM_hidden20-02.hdf5\n",
            "Epoch 3/50\n",
            "48840/48840 [==============================] - 175s 4ms/step - loss: 0.8766 - categorical_accuracy: 0.7184 - val_loss: 0.7760 - val_categorical_accuracy: 0.7550\n",
            "\n",
            "Epoch 00003: saving model to 2LSTM_hidden20-03.hdf5\n",
            "Epoch 4/50\n",
            "45550/48840 [==========================>...] - ETA: 10s - loss: 0.8326 - categorical_accuracy: 0.7309"
          ],
          "name": "stdout"
        }
      ]
    },
    {
      "cell_type": "markdown",
      "metadata": {
        "id": "_rhxYH5GkPeZ",
        "colab_type": "text"
      },
      "source": [
        "Training time is average 180 seconds per epoch."
      ]
    },
    {
      "cell_type": "code",
      "metadata": {
        "id": "8Yl9nXFrB7vz",
        "colab_type": "code",
        "colab": {}
      },
      "source": [
        "model.save('2LSTM_hidden20.hdf5')"
      ],
      "execution_count": 0,
      "outputs": []
    },
    {
      "cell_type": "markdown",
      "metadata": {
        "id": "KuV7t8e1vuvC",
        "colab_type": "text"
      },
      "source": [
        "save trained model"
      ]
    },
    {
      "cell_type": "code",
      "metadata": {
        "id": "rT_26DFOrsJr",
        "colab_type": "code",
        "colab": {}
      },
      "source": [
        "model = load_model('2LSTM_hidden20-01.hdf5')"
      ],
      "execution_count": 0,
      "outputs": []
    },
    {
      "cell_type": "markdown",
      "metadata": {
        "id": "XpcRToFpvy0d",
        "colab_type": "text"
      },
      "source": [
        "load trained model"
      ]
    },
    {
      "cell_type": "code",
      "metadata": {
        "id": "Y0varvOLPepP",
        "colab_type": "code",
        "outputId": "a3bb09e0-5ea6-4076-9207-8ea870c5d5b4",
        "colab": {
          "base_uri": "https://localhost:8080/",
          "height": 425
        }
      },
      "source": [
        "tr_accuracy = []\n",
        "test_accuracy = []\n",
        "for epoch in [1,5,10,20,30,40]:\n",
        "  model = load_model('2LSTM_hidden20-{:02d}.hdf5'.format(epoch))\n",
        "  # Evaluating the model on the training and testing set\n",
        "  score = model.evaluate(tr_features, tr_labels, verbose=1)\n",
        "  print(\"Training Accuracy: \", score[1])\n",
        "  tr_accuracy.append(score[1])\n",
        "  score = model.evaluate(test_features, test_labels, verbose=1)\n",
        "  print(\"Testing Accuracy: \", score[1])\n",
        "  test_accuracy.append(score[1])"
      ],
      "execution_count": 16,
      "outputs": [
        {
          "output_type": "stream",
          "text": [
            "48840/48840 [==============================] - 105s 2ms/step\n",
            "Training Accuracy:  0.8023546273546274\n",
            "5218/5218 [==============================] - 11s 2ms/step\n",
            "Testing Accuracy:  0.5137983901878114\n",
            "48840/48840 [==============================] - 106s 2ms/step\n",
            "Training Accuracy:  0.8129197379197379\n",
            "5218/5218 [==============================] - 12s 2ms/step\n",
            "Testing Accuracy:  0.4938673821387505\n",
            "48840/48840 [==============================] - 108s 2ms/step\n",
            "Training Accuracy:  0.8166052416052416\n",
            "5218/5218 [==============================] - 11s 2ms/step\n",
            "Testing Accuracy:  0.5218474511307014\n",
            "48840/48840 [==============================] - 109s 2ms/step\n",
            "Training Accuracy:  0.8392301392301392\n",
            "5218/5218 [==============================] - 11s 2ms/step\n",
            "Testing Accuracy:  0.5015331544653123\n",
            "48840/48840 [==============================] - 108s 2ms/step\n",
            "Training Accuracy:  0.8469082719082719\n",
            "5218/5218 [==============================] - 11s 2ms/step\n",
            "Testing Accuracy:  0.4639708700651591\n",
            "48840/48840 [==============================] - 108s 2ms/step\n",
            "Training Accuracy:  0.8588042588042588\n",
            "5218/5218 [==============================] - 12s 2ms/step\n",
            "Testing Accuracy:  0.47412801839785357\n"
          ],
          "name": "stdout"
        }
      ]
    },
    {
      "cell_type": "code",
      "metadata": {
        "id": "rPgNgl7yt3u9",
        "colab_type": "code",
        "colab": {
          "base_uri": "https://localhost:8080/",
          "height": 295
        },
        "outputId": "ea1cf2c0-119b-434e-dfc4-e7d8f416c7b9"
      },
      "source": [
        "import matplotlib.pyplot as plt\n",
        "%matplotlib inline\n",
        "import pandas as pd\n",
        "\n",
        "result = pd.DataFrame({'train_accuracy': tr_accuracy, 'test_accuracy' : test_accuracy})\n",
        "result.plot()\n",
        "plt.xticks(np.arange(6),[1,5,10,20,30,40])\n",
        "plt.xlabel('epochs')\n",
        "plt.ylabel('accuracy')\n",
        "plt.title('train & test accuracy per epochs')\n",
        "plt.legend(loc='best')\n",
        "plt.show()"
      ],
      "execution_count": 32,
      "outputs": [
        {
          "output_type": "display_data",
          "data": {
            "image/png": "[encoded data removed]",
            "text/plain": [
              "<Figure size 432x288 with 1 Axes>"
            ]
          },
          "metadata": {
            "tags": []
          }
        }
      ]
    },
    {
      "cell_type": "markdown",
      "metadata": {
        "id": "rR5hTGgckhVh",
        "colab_type": "text"
      },
      "source": [
        "Training accuracy is above 0.8\n",
        "Testing accuracy is near 0.5  \n",
        "Maybe somewhy, model is overfitted to training data.  \n",
        "I think applying regularization and normalization methods can solve this problem."
      ]
    },
    {
      "cell_type": "code",
      "metadata": {
        "id": "UM4wfRsz0td2",
        "colab_type": "code",
        "colab": {}
      },
      "source": [
        ""
      ],
      "execution_count": 0,
      "outputs": []
    }
  ]
}