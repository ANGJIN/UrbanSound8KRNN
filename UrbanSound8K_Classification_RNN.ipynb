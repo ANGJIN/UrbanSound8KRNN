{
  "nbformat": 4,
  "nbformat_minor": 0,
  "metadata": {
    "colab": {
      "name": "UrbanSound8K_Classification_RNN.ipynb",
      "provenance": [],
      "collapsed_sections": [],
      "include_colab_link": true
    },
    "kernelspec": {
      "name": "python3",
      "display_name": "Python 3"
    },
    "accelerator": "GPU"
  },
  "cells": [
    {
      "cell_type": "markdown",
      "metadata": {
        "id": "view-in-github",
        "colab_type": "text"
      },
      "source": [
        "<a href=\"https://colab.research.google.com/github/ANGJIN/UrbanSound8KRNN/blob/master/UrbanSound8K_Classification_RNN.ipynb\" target=\"_parent\"><img src=\"https://colab.research.google.com/assets/colab-badge.svg\" alt=\"Open In Colab\"/></a>"
      ]
    },
    {
      "cell_type": "markdown",
      "metadata": {
        "id": "GOPXlbWOAAIN",
        "colab_type": "text"
      },
      "source": [
        "My UrbanSound8K data is in google drive.  \n",
        "So, mount google drive first"
      ]
    },
    {
      "cell_type": "code",
      "metadata": {
        "id": "a-eXN8cRBBIg",
        "colab_type": "code",
        "outputId": "d110105b-d57f-4e91-e82d-ce17469746a1",
        "colab": {
          "base_uri": "https://localhost:8080/",
          "height": 122
        }
      },
      "source": [
        "from google.colab import drive\n",
        "drive.mount('/content/drive')"
      ],
      "execution_count": 2,
      "outputs": [
        {
          "output_type": "stream",
          "text": [
            "Go to this URL in a browser: https://accounts.google.com/o/oauth2/auth?client_id=947318989803-6bn6qk8qdgf4n4g3pfee6491hc0brc4i.apps.googleusercontent.com&redirect_uri=urn%3Aietf%3Awg%3Aoauth%3A2.0%3Aoob&scope=email%20https%3A%2F%2Fwww.googleapis.com%2Fauth%2Fdocs.test%20https%3A%2F%2Fwww.googleapis.com%2Fauth%2Fdrive%20https%3A%2F%2Fwww.googleapis.com%2Fauth%2Fdrive.photos.readonly%20https%3A%2F%2Fwww.googleapis.com%2Fauth%2Fpeopleapi.readonly&response_type=code\n",
            "\n",
            "Enter your authorization code:\n",
            "··········\n",
            "Mounted at /content/drive\n"
          ],
          "name": "stdout"
        }
      ]
    },
    {
      "cell_type": "markdown",
      "metadata": {
        "id": "Vp_hPYbKdH0S",
        "colab_type": "text"
      },
      "source": [
        "Change present working directory to urban sound classification directory  \n",
        "which is in mounted Google drive."
      ]
    },
    {
      "cell_type": "code",
      "metadata": {
        "id": "kGXyNkbJBqdx",
        "colab_type": "code",
        "outputId": "23221fa5-03a7-4486-d434-569a27cf1001",
        "colab": {
          "base_uri": "https://localhost:8080/",
          "height": 34
        }
      },
      "source": [
        "%cd 'drive/My Drive/urban sound classification'"
      ],
      "execution_count": 3,
      "outputs": [
        {
          "output_type": "stream",
          "text": [
            "/content/drive/My Drive/urban sound classification\n"
          ],
          "name": "stdout"
        }
      ]
    },
    {
      "cell_type": "markdown",
      "metadata": {
        "id": "puhZ8q96dhSn",
        "colab_type": "text"
      },
      "source": [
        "Import modules"
      ]
    },
    {
      "cell_type": "code",
      "metadata": {
        "id": "sINrAeP7Fw3l",
        "colab_type": "code",
        "outputId": "c4f96bbc-9c0e-4f28-e867-2af015efa874",
        "colab": {
          "base_uri": "https://localhost:8080/",
          "height": 80
        }
      },
      "source": [
        "import glob\n",
        "import os\n",
        "import librosa\n",
        "import matplotlib.pyplot as plt\n",
        "%matplotlib inline\n",
        "import numpy as np\n",
        "from IPython.display import SVG\n",
        "import keras\n",
        "from keras.utils.vis_utils import model_to_dot\n",
        "from keras.models import Sequential, load_model\n",
        "from keras.layers import LSTM, Activation\n",
        "from keras.layers import Dropout, Dense, Flatten, BatchNormalization\n",
        "from keras.callbacks import ModelCheckpoint"
      ],
      "execution_count": 4,
      "outputs": [
        {
          "output_type": "stream",
          "text": [
            "Using TensorFlow backend.\n"
          ],
          "name": "stderr"
        },
        {
          "output_type": "display_data",
          "data": {
            "text/html": [
              "<p style=\"color: red;\">\n",
              "The default version of TensorFlow in Colab will soon switch to TensorFlow 2.x.<br>\n",
              "We recommend you <a href=\"https://www.tensorflow.org/guide/migrate\" target=\"_blank\">upgrade</a> now \n",
              "or ensure your notebook will continue to use TensorFlow 1.x via the <code>%tensorflow_version 1.x</code> magic:\n",
              "<a href=\"https://colab.research.google.com/notebooks/tensorflow_version.ipynb\" target=\"_blank\">more info</a>.</p>\n"
            ],
            "text/plain": [
              "<IPython.core.display.HTML object>"
            ]
          },
          "metadata": {
            "tags": []
          }
        }
      ]
    },
    {
      "cell_type": "markdown",
      "metadata": {
        "id": "Fl56aaTJd4_7",
        "colab_type": "text"
      },
      "source": [
        "Below, there are some functions to load and pre-process data."
      ]
    },
    {
      "cell_type": "code",
      "metadata": {
        "id": "PB5WKi1lwOCP",
        "colab_type": "code",
        "colab": {}
      },
      "source": [
        "def windows(data, window_size):\n",
        "    start = 0\n",
        "    while start < len(data):\n",
        "        yield int(start), int(start + window_size)\n",
        "        start += (window_size / 2)"
      ],
      "execution_count": 0,
      "outputs": []
    },
    {
      "cell_type": "markdown",
      "metadata": {
        "id": "nqPDritOeG0x",
        "colab_type": "text"
      },
      "source": [
        "generator function for 'windowing' data.  \n",
        "returns indices of start and end of each window, size of parameter 'window_size'  \n",
        "As you can see in code. windows are overlapped of half-window size"
      ]
    },
    {
      "cell_type": "code",
      "metadata": {
        "id": "K3hYEJ4-dxrK",
        "colab_type": "code",
        "colab": {}
      },
      "source": [
        "import pickle\n",
        "def extract_features(parent_dir,sub_dirs,file_ext=\"*.wav\",bands = 20, frames = 41):\n",
        "    window_size = 512 * (frames - 1)\n",
        "    for l, sub_dir in enumerate(sub_dirs):\n",
        "        mfccs = []\n",
        "        log_specgrams = []\n",
        "        labels = []\n",
        "        for fn in glob.glob(os.path.join(parent_dir, sub_dir, file_ext)):\n",
        "            sound_clip,s = librosa.load(fn)\n",
        "            #UrbanSound8K/audio/fold*/*.wav\n",
        "            label = fn.split('/')[-1].split('-')[1]\n",
        "            for (start,end) in windows(sound_clip,window_size):\n",
        "              if len(sound_clip[start:end]) == window_size:\n",
        "                signal = sound_clip[start:end]\n",
        "                #melspec = librosa.feature.melspectrogram(signal, n_mels = bands)\n",
        "                #logspec = librosa.amplitude_to_db(melspec)\n",
        "                #logspec = logspec.T.flatten()[:, np.newaxis].T\n",
        "                #log_specgrams.append(logspec)\n",
        "                mfcc = librosa.feature.mfcc(y=signal, sr=s, n_mfcc = bands).T.flatten()[:, np.newaxis].T\n",
        "                mfccs.append(mfcc)\n",
        "                labels.append(label)         \n",
        "        #feature = np.hstack(mfcc, logspec)\n",
        "        feature = np.asarray(mfccs).reshape(len(mfccs),frames,bands)\n",
        "        filename = 'mfcc_features_{}.pk'.format(sub_dir)\n",
        "        #filename = 'melspec_mfcc_features_{}.pk'.format(sub_dir)\n",
        "        f=open(filename,'wb')\n",
        "        pickle.dump(feature,f)\n",
        "        f.close()\n",
        "        filename = 'mfcc_labels_{}.pk'.format(sub_dir)\n",
        "        f=open(filename,'wb')\n",
        "        pickle.dump(labels,f)\n",
        "        f.close()\n",
        "        print('finish loading {}, shape : {}'.format(sub_dir,feature.shape))\n",
        "    #features = np.hstack((mfccs, log_specgrams))\n",
        "    #features = np.asarray(features).reshape(len(features),frames,bands)"
      ],
      "execution_count": 0,
      "outputs": []
    },
    {
      "cell_type": "code",
      "metadata": {
        "id": "EKKl782Ovxce",
        "colab_type": "code",
        "outputId": "b18da1ef-42b9-4288-d615-8fc412728f01",
        "colab": {
          "base_uri": "https://localhost:8080/",
          "height": 51
        }
      },
      "source": [
        "sub_dirs = ['fold{}'.format(i) for i in range(9,11)]\n",
        "extract_features(parent_dir,sub_dirs)"
      ],
      "execution_count": 0,
      "outputs": [
        {
          "output_type": "stream",
          "text": [
            "finish loading fold9, shape : (5118, 41, 20)\n",
            "finish loading fold10, shape : (5218, 41, 20)\n"
          ],
          "name": "stdout"
        }
      ]
    },
    {
      "cell_type": "markdown",
      "metadata": {
        "id": "gwWNOAJlfMPk",
        "colab_type": "text"
      },
      "source": [
        "Read and pre-process all data in each 'fold_'.  \n",
        "Open and process each wav data with librosa.mfcc module and return list of data and labels."
      ]
    },
    {
      "cell_type": "code",
      "metadata": {
        "id": "0Obk0W3edzD0",
        "colab_type": "code",
        "colab": {}
      },
      "source": [
        "def one_hot_encode(labels):\n",
        "    n_labels = len(labels)\n",
        "    labels = np.asarray(labels, dtype=np.int)\n",
        "    n_unique_labels = len(np.unique(labels))\n",
        "    one_hot_encode = np.zeros((n_labels,n_unique_labels))\n",
        "    one_hot_encode[np.arange(n_labels), labels] = 1\n",
        "    return one_hot_encode"
      ],
      "execution_count": 0,
      "outputs": []
    },
    {
      "cell_type": "markdown",
      "metadata": {
        "id": "fBOmTwTFgzZY",
        "colab_type": "text"
      },
      "source": [
        "One hot encoding function. labels returned from extract_features function is like  \n",
        "[1,3,2,...].  \n",
        "We have to convert this labels to form of one hot encode data like  \n",
        "[[0,1,0,0,0,0,...]   \n",
        " [0,0,0,1,0,0,...]  \n",
        " [0,0,1,0,0,0,...]...]."
      ]
    },
    {
      "cell_type": "markdown",
      "metadata": {
        "id": "Qyyn7dqvhtsQ",
        "colab_type": "text"
      },
      "source": [
        "We will use data in fold1-6 to train.  \n",
        "Use data in fold7-9 to validate.  \n",
        "Use data in fold10 to test model."
      ]
    },
    {
      "cell_type": "code",
      "metadata": {
        "id": "wVjqM9YRxXfK",
        "colab_type": "code",
        "colab": {}
      },
      "source": [
        "import pickle\n",
        "tr_features = []\n",
        "tr_labels = []\n",
        "ts_features = []\n",
        "ts_labels = []\n",
        "\n",
        "for sub_dir in ['fold{}'.format(i) for i in range(1,7)] :\n",
        "  feature_file = 'mfcc_features_{}.pk'.format(sub_dir)\n",
        "  label_file = 'mfcc_labels_{}.pk'.format(sub_dir)\n",
        "  f1=open(feature_file,'rb')\n",
        "  f2=open(label_file,'rb')\n",
        "  tmp_features = pickle.load(f1)\n",
        "  tmp_labels = pickle.load(f2)\n",
        "  f1.close()\n",
        "  f2.close()\n",
        "  tr_features.extend(tmp_features)\n",
        "  tr_labels.extend(tmp_labels)\n",
        "tr_features=np.asarray(tr_features)\n",
        "tr_labels=one_hot_encode(tr_labels)\n",
        "\n",
        "for sub_dir in ['fold{}'.format(i) for i in range(7,10)] :\n",
        "  feature_file = 'mfcc_features_{}.pk'.format(sub_dir)\n",
        "  label_file = 'mfcc_labels_{}.pk'.format(sub_dir)\n",
        "  f1=open(feature_file,'rb')\n",
        "  f2=open(label_file,'rb')\n",
        "  tmp_features = pickle.load(f1)\n",
        "  tmp_labels = pickle.load(f2)\n",
        "  f1.close()\n",
        "  f2.close()\n",
        "  ts_features.extend(tmp_features)\n",
        "  ts_labels.extend(tmp_labels)\n",
        "ts_features=np.asarray(ts_features)\n",
        "ts_labels=one_hot_encode(ts_labels)\n",
        "\n",
        "sub_dir = 'fold10' #10 fold for test data\n",
        "feature_file = 'mfcc_features_{}.pk'.format(sub_dir)\n",
        "label_file = 'mfcc_labels_{}.pk'.format(sub_dir)\n",
        "f1=open(feature_file,'rb')\n",
        "f2=open(label_file,'rb')\n",
        "test_features = pickle.load(f1)\n",
        "test_labels = pickle.load(f2)\n",
        "f1.close()\n",
        "f2.close()\n",
        "test_features = np.asarray(test_features)\n",
        "test_labels = one_hot_encode(test_labels)"
      ],
      "execution_count": 0,
      "outputs": []
    },
    {
      "cell_type": "markdown",
      "metadata": {
        "id": "r9-mbxaii6a3",
        "colab_type": "text"
      },
      "source": [
        "Ok, now let's check data shape."
      ]
    },
    {
      "cell_type": "code",
      "metadata": {
        "id": "m_ziJ7eX7cb-",
        "colab_type": "code",
        "outputId": "0f68a1f7-8cc8-46b4-bfe7-0e9552e5f2ce",
        "colab": {
          "base_uri": "https://localhost:8080/",
          "height": 68
        }
      },
      "source": [
        "print(tr_features.shape, tr_labels.shape)\n",
        "print(ts_features.shape, ts_labels.shape)\n",
        "print(test_features.shape, test_labels.shape)"
      ],
      "execution_count": 9,
      "outputs": [
        {
          "output_type": "stream",
          "text": [
            "(33503, 41, 20) (33503, 10)\n",
            "(15337, 41, 20) (15337, 10)\n",
            "(5218, 41, 20) (5218, 10)\n"
          ],
          "name": "stdout"
        }
      ]
    },
    {
      "cell_type": "markdown",
      "metadata": {
        "id": "MGxXXNj9jB1k",
        "colab_type": "text"
      },
      "source": [
        "I intend to split data size of train : validate : test to 6:3:1  "
      ]
    },
    {
      "cell_type": "code",
      "metadata": {
        "id": "QHBhvhWP1tL0",
        "colab_type": "code",
        "colab": {}
      },
      "source": [
        "# Training Parameters\n",
        "epochs = 1000\n",
        "batch_size = 2**10\n",
        "\n",
        "# Network Parameters\n",
        "n_input = 20\n",
        "n_steps = 41\n",
        "n_hidden = 200\n",
        "n_classes = 10\n",
        "use_dropout = False"
      ],
      "execution_count": 0,
      "outputs": []
    },
    {
      "cell_type": "markdown",
      "metadata": {
        "id": "p_x2qvXHjtnZ",
        "colab_type": "text"
      },
      "source": [
        "I build RNN model with LSTM Layer and Dense layer is following after."
      ]
    },
    {
      "cell_type": "code",
      "metadata": {
        "id": "FVqmyfzKx3J5",
        "colab_type": "code",
        "colab": {}
      },
      "source": [
        "model = Sequential()\n",
        "model.add(LSTM(n_hidden, input_shape=(n_steps,n_input), return_sequences=False, dropout=0.2, recurrent_dropout=0.2))\n",
        "if use_dropout :\n",
        "  model.add(Dropout(0.5))\n",
        "model.add(Dense(n_classes))\n",
        "model.add(Activation('softmax'))"
      ],
      "execution_count": 0,
      "outputs": []
    },
    {
      "cell_type": "code",
      "metadata": {
        "id": "clWx_Jly3S1z",
        "colab_type": "code",
        "outputId": "d0b20eef-d7f7-4b85-deeb-e16e880dd4f8",
        "colab": {
          "base_uri": "https://localhost:8080/",
          "height": 386
        }
      },
      "source": [
        "SVG(model_to_dot(model, show_shapes=True, dpi=65).create(prog='dot', format='svg'))"
      ],
      "execution_count": 65,
      "outputs": [
        {
          "output_type": "execute_result",
          "data": {
            "text/plain": [
              "<IPython.core.display.SVG object>"
            ],
            "image/svg+xml": "<svg height=\"274pt\" viewBox=\"0.00 0.00 340.00 304.00\" width=\"307pt\" xmlns=\"http://www.w3.org/2000/svg\" xmlns:xlink=\"http://www.w3.org/1999/xlink\">\n<g class=\"graph\" id=\"graph0\" transform=\"scale(.9028 .9028) rotate(0) translate(4 300)\">\n<title>G</title>\n<polygon fill=\"#ffffff\" points=\"-4,4 -4,-300 336,-300 336,4 -4,4\" stroke=\"transparent\"/>\n<!-- 140459048667064 -->\n<g class=\"node\" id=\"node1\">\n<title>140459048667064</title>\n<polygon fill=\"none\" points=\"0,-249.5 0,-295.5 332,-295.5 332,-249.5 0,-249.5\" stroke=\"#000000\"/>\n<text fill=\"#000000\" font-family=\"Times,serif\" font-size=\"14.00\" text-anchor=\"middle\" x=\"86\" y=\"-268.8\">lstm_21_input: InputLayer</text>\n<polyline fill=\"none\" points=\"172,-249.5 172,-295.5 \" stroke=\"#000000\"/>\n<text fill=\"#000000\" font-family=\"Times,serif\" font-size=\"14.00\" text-anchor=\"middle\" x=\"201\" y=\"-280.3\">input:</text>\n<polyline fill=\"none\" points=\"172,-272.5 230,-272.5 \" stroke=\"#000000\"/>\n<text fill=\"#000000\" font-family=\"Times,serif\" font-size=\"14.00\" text-anchor=\"middle\" x=\"201\" y=\"-257.3\">output:</text>\n<polyline fill=\"none\" points=\"230,-249.5 230,-295.5 \" stroke=\"#000000\"/>\n<text fill=\"#000000\" font-family=\"Times,serif\" font-size=\"14.00\" text-anchor=\"middle\" x=\"281\" y=\"-280.3\">(None, 41, 20)</text>\n<polyline fill=\"none\" points=\"230,-272.5 332,-272.5 \" stroke=\"#000000\"/>\n<text fill=\"#000000\" font-family=\"Times,serif\" font-size=\"14.00\" text-anchor=\"middle\" x=\"281\" y=\"-257.3\">(None, 41, 20)</text>\n</g>\n<!-- 140459048666448 -->\n<g class=\"node\" id=\"node2\">\n<title>140459048666448</title>\n<polygon fill=\"none\" points=\"31,-166.5 31,-212.5 301,-212.5 301,-166.5 31,-166.5\" stroke=\"#000000\"/>\n<text fill=\"#000000\" font-family=\"Times,serif\" font-size=\"14.00\" text-anchor=\"middle\" x=\"86\" y=\"-185.8\">lstm_21: LSTM</text>\n<polyline fill=\"none\" points=\"141,-166.5 141,-212.5 \" stroke=\"#000000\"/>\n<text fill=\"#000000\" font-family=\"Times,serif\" font-size=\"14.00\" text-anchor=\"middle\" x=\"170\" y=\"-197.3\">input:</text>\n<polyline fill=\"none\" points=\"141,-189.5 199,-189.5 \" stroke=\"#000000\"/>\n<text fill=\"#000000\" font-family=\"Times,serif\" font-size=\"14.00\" text-anchor=\"middle\" x=\"170\" y=\"-174.3\">output:</text>\n<polyline fill=\"none\" points=\"199,-166.5 199,-212.5 \" stroke=\"#000000\"/>\n<text fill=\"#000000\" font-family=\"Times,serif\" font-size=\"14.00\" text-anchor=\"middle\" x=\"250\" y=\"-197.3\">(None, 41, 20)</text>\n<polyline fill=\"none\" points=\"199,-189.5 301,-189.5 \" stroke=\"#000000\"/>\n<text fill=\"#000000\" font-family=\"Times,serif\" font-size=\"14.00\" text-anchor=\"middle\" x=\"250\" y=\"-174.3\">(None, 200)</text>\n</g>\n<!-- 140459048667064&#45;&gt;140459048666448 -->\n<g class=\"edge\" id=\"edge1\">\n<title>140459048667064-&gt;140459048666448</title>\n<path d=\"M166,-249.3799C166,-241.1745 166,-231.7679 166,-222.8786\" fill=\"none\" stroke=\"#000000\"/>\n<polygon fill=\"#000000\" points=\"169.5001,-222.784 166,-212.784 162.5001,-222.784 169.5001,-222.784\" stroke=\"#000000\"/>\n</g>\n<!-- 140459048667232 -->\n<g class=\"node\" id=\"node3\">\n<title>140459048667232</title>\n<polygon fill=\"none\" points=\"37,-83.5 37,-129.5 295,-129.5 295,-83.5 37,-83.5\" stroke=\"#000000\"/>\n<text fill=\"#000000\" font-family=\"Times,serif\" font-size=\"14.00\" text-anchor=\"middle\" x=\"93.5\" y=\"-102.8\">dense_11: Dense</text>\n<polyline fill=\"none\" points=\"150,-83.5 150,-129.5 \" stroke=\"#000000\"/>\n<text fill=\"#000000\" font-family=\"Times,serif\" font-size=\"14.00\" text-anchor=\"middle\" x=\"179\" y=\"-114.3\">input:</text>\n<polyline fill=\"none\" points=\"150,-106.5 208,-106.5 \" stroke=\"#000000\"/>\n<text fill=\"#000000\" font-family=\"Times,serif\" font-size=\"14.00\" text-anchor=\"middle\" x=\"179\" y=\"-91.3\">output:</text>\n<polyline fill=\"none\" points=\"208,-83.5 208,-129.5 \" stroke=\"#000000\"/>\n<text fill=\"#000000\" font-family=\"Times,serif\" font-size=\"14.00\" text-anchor=\"middle\" x=\"251.5\" y=\"-114.3\">(None, 200)</text>\n<polyline fill=\"none\" points=\"208,-106.5 295,-106.5 \" stroke=\"#000000\"/>\n<text fill=\"#000000\" font-family=\"Times,serif\" font-size=\"14.00\" text-anchor=\"middle\" x=\"251.5\" y=\"-91.3\">(None, 10)</text>\n</g>\n<!-- 140459048666448&#45;&gt;140459048667232 -->\n<g class=\"edge\" id=\"edge2\">\n<title>140459048666448-&gt;140459048667232</title>\n<path d=\"M166,-166.3799C166,-158.1745 166,-148.7679 166,-139.8786\" fill=\"none\" stroke=\"#000000\"/>\n<polygon fill=\"#000000\" points=\"169.5001,-139.784 166,-129.784 162.5001,-139.784 169.5001,-139.784\" stroke=\"#000000\"/>\n</g>\n<!-- 140459048071856 -->\n<g class=\"node\" id=\"node4\">\n<title>140459048071856</title>\n<polygon fill=\"none\" points=\"16.5,-.5 16.5,-46.5 315.5,-46.5 315.5,-.5 16.5,-.5\" stroke=\"#000000\"/>\n<text fill=\"#000000\" font-family=\"Times,serif\" font-size=\"14.00\" text-anchor=\"middle\" x=\"97\" y=\"-19.8\">activation_11: Activation</text>\n<polyline fill=\"none\" points=\"177.5,-.5 177.5,-46.5 \" stroke=\"#000000\"/>\n<text fill=\"#000000\" font-family=\"Times,serif\" font-size=\"14.00\" text-anchor=\"middle\" x=\"206.5\" y=\"-31.3\">input:</text>\n<polyline fill=\"none\" points=\"177.5,-23.5 235.5,-23.5 \" stroke=\"#000000\"/>\n<text fill=\"#000000\" font-family=\"Times,serif\" font-size=\"14.00\" text-anchor=\"middle\" x=\"206.5\" y=\"-8.3\">output:</text>\n<polyline fill=\"none\" points=\"235.5,-.5 235.5,-46.5 \" stroke=\"#000000\"/>\n<text fill=\"#000000\" font-family=\"Times,serif\" font-size=\"14.00\" text-anchor=\"middle\" x=\"275.5\" y=\"-31.3\">(None, 10)</text>\n<polyline fill=\"none\" points=\"235.5,-23.5 315.5,-23.5 \" stroke=\"#000000\"/>\n<text fill=\"#000000\" font-family=\"Times,serif\" font-size=\"14.00\" text-anchor=\"middle\" x=\"275.5\" y=\"-8.3\">(None, 10)</text>\n</g>\n<!-- 140459048667232&#45;&gt;140459048071856 -->\n<g class=\"edge\" id=\"edge3\">\n<title>140459048667232-&gt;140459048071856</title>\n<path d=\"M166,-83.3799C166,-75.1745 166,-65.7679 166,-56.8786\" fill=\"none\" stroke=\"#000000\"/>\n<polygon fill=\"#000000\" points=\"169.5001,-56.784 166,-46.784 162.5001,-56.784 169.5001,-56.784\" stroke=\"#000000\"/>\n</g>\n</g>\n</svg>"
          },
          "metadata": {
            "tags": []
          },
          "execution_count": 65
        }
      ]
    },
    {
      "cell_type": "markdown",
      "metadata": {
        "id": "VqfP3jOQj-XW",
        "colab_type": "text"
      },
      "source": [
        "Use adam optimizer, categorical crossentropy for loss function and categorical accuracy for metric."
      ]
    },
    {
      "cell_type": "code",
      "metadata": {
        "id": "kTsCBH1x3f_y",
        "colab_type": "code",
        "outputId": "4d23d434-8ec0-49fc-b037-2febb627ed92",
        "colab": {
          "base_uri": "https://localhost:8080/",
          "height": 255
        }
      },
      "source": [
        "model.compile(loss='categorical_crossentropy', optimizer='adam', metrics=['categorical_accuracy'])\n",
        "model.summary()"
      ],
      "execution_count": 66,
      "outputs": [
        {
          "output_type": "stream",
          "text": [
            "Model: \"sequential_11\"\n",
            "_________________________________________________________________\n",
            "Layer (type)                 Output Shape              Param #   \n",
            "=================================================================\n",
            "lstm_21 (LSTM)               (None, 200)               176800    \n",
            "_________________________________________________________________\n",
            "dense_11 (Dense)             (None, 10)                2010      \n",
            "_________________________________________________________________\n",
            "activation_11 (Activation)   (None, 10)                0         \n",
            "=================================================================\n",
            "Total params: 178,810\n",
            "Trainable params: 178,810\n",
            "Non-trainable params: 0\n",
            "_________________________________________________________________\n"
          ],
          "name": "stdout"
        }
      ]
    },
    {
      "cell_type": "code",
      "metadata": {
        "id": "eO7mhGWVBGnR",
        "colab_type": "code",
        "colab": {}
      },
      "source": [
        "checkpointer = ModelCheckpoint(filepath='2LSTM_hidden20-{epoch:02d}.hdf5', verbose=1)"
      ],
      "execution_count": 0,
      "outputs": []
    },
    {
      "cell_type": "markdown",
      "metadata": {
        "id": "PBNsHh7bvmoz",
        "colab_type": "text"
      },
      "source": [
        "save model for each epoch"
      ]
    },
    {
      "cell_type": "code",
      "metadata": {
        "id": "IzkdguIBFJPD",
        "colab_type": "code",
        "colab": {}
      },
      "source": [
        "model.fit(tr_features,tr_labels,epochs=epochs,batch_size=batch_size,validation_data=(ts_features,ts_labels), callbacks=[checkpointer])"
      ],
      "execution_count": 0,
      "outputs": []
    },
    {
      "cell_type": "code",
      "metadata": {
        "id": "8Yl9nXFrB7vz",
        "colab_type": "code",
        "colab": {}
      },
      "source": [
        "model.save('2LSTM_hidden20.hdf5')"
      ],
      "execution_count": 0,
      "outputs": []
    },
    {
      "cell_type": "markdown",
      "metadata": {
        "id": "KuV7t8e1vuvC",
        "colab_type": "text"
      },
      "source": [
        "save trained model"
      ]
    },
    {
      "cell_type": "code",
      "metadata": {
        "id": "rT_26DFOrsJr",
        "colab_type": "code",
        "colab": {}
      },
      "source": [
        "model = load_model('2LSTM_hidden20-01.hdf5')"
      ],
      "execution_count": 0,
      "outputs": []
    },
    {
      "cell_type": "markdown",
      "metadata": {
        "id": "XpcRToFpvy0d",
        "colab_type": "text"
      },
      "source": [
        "load trained model"
      ]
    },
    {
      "cell_type": "code",
      "metadata": {
        "id": "Y0varvOLPepP",
        "colab_type": "code",
        "outputId": "f8bf086c-2b4f-4b0f-ab93-bbfd7b047fdd",
        "colab": {
          "base_uri": "https://localhost:8080/",
          "height": 697
        }
      },
      "source": [
        "tr_accuracy = []\n",
        "test_accuracy = []\n",
        "for epoch in np.arange(1,1000,100):\n",
        "  model = load_model('2LSTM_hidden20-{:02d}.hdf5'.format(epoch))\n",
        "  # Evaluating the model on the training and testing set\n",
        "  score = model.evaluate(tr_features, tr_labels, verbose=1)\n",
        "  print(\"Training Accuracy: \", score[1])\n",
        "  tr_accuracy.append(score[1])\n",
        "  score = model.evaluate(test_features, test_labels, verbose=1)\n",
        "  print(\"Testing Accuracy: \", score[1])\n",
        "  test_accuracy.append(score[1])"
      ],
      "execution_count": 9,
      "outputs": [
        {
          "output_type": "stream",
          "text": [
            "33503/33503 [==============================] - 30s 908us/step\n",
            "Training Accuracy:  0.4627645285603566\n",
            "5218/5218 [==============================] - 5s 865us/step\n",
            "Testing Accuracy:  0.3581832119586048\n",
            "33503/33503 [==============================] - 30s 889us/step\n",
            "Training Accuracy:  0.9400650687766808\n",
            "5218/5218 [==============================] - 5s 874us/step\n",
            "Testing Accuracy:  0.5756995017247988\n",
            "33503/33503 [==============================] - 30s 882us/step\n",
            "Training Accuracy:  0.9580933050824946\n",
            "5218/5218 [==============================] - 5s 881us/step\n",
            "Testing Accuracy:  0.6021464162514373\n",
            "33503/33503 [==============================] - 30s 883us/step\n",
            "Training Accuracy:  0.9666597020913212\n",
            "5218/5218 [==============================] - 5s 885us/step\n",
            "Testing Accuracy:  0.5783825220390955\n",
            "33503/33503 [==============================] - 30s 906us/step\n",
            "Training Accuracy:  0.9656747157006599\n",
            "5218/5218 [==============================] - 5s 898us/step\n",
            "Testing Accuracy:  0.5822154082023764\n",
            "33503/33503 [==============================] - 30s 887us/step\n",
            "Training Accuracy:  0.9728084051943151\n",
            "5218/5218 [==============================] - 5s 887us/step\n",
            "Testing Accuracy:  0.572633192794174\n",
            "33503/33503 [==============================] - 30s 905us/step\n",
            "Training Accuracy:  0.976240933624605\n",
            "5218/5218 [==============================] - 5s 874us/step\n",
            "Testing Accuracy:  0.5948639325412035\n",
            "33503/33503 [==============================] - 30s 893us/step\n",
            "Training Accuracy:  0.9747485299841687\n",
            "5218/5218 [==============================] - 5s 869us/step\n",
            "Testing Accuracy:  0.5745496358758145\n",
            "33503/33503 [==============================] - 31s 924us/step\n",
            "Training Accuracy:  0.9789571082937508\n",
            "5218/5218 [==============================] - 5s 913us/step\n",
            "Testing Accuracy:  0.5917976236105787\n",
            "33503/33503 [==============================] - 30s 903us/step\n",
            "Training Accuracy:  0.975793212526781\n",
            "5218/5218 [==============================] - 5s 881us/step\n",
            "Testing Accuracy:  0.5814488309697202\n"
          ],
          "name": "stdout"
        }
      ]
    },
    {
      "cell_type": "markdown",
      "metadata": {
        "id": "zCxeJ2niPGx3",
        "colab_type": "text"
      },
      "source": [
        "Evaluate Trained model."
      ]
    },
    {
      "cell_type": "code",
      "metadata": {
        "id": "rPgNgl7yt3u9",
        "colab_type": "code",
        "outputId": "7f7a9202-3ed8-49fd-9431-00d1f53aab10",
        "colab": {
          "base_uri": "https://localhost:8080/",
          "height": 295
        }
      },
      "source": [
        "import matplotlib.pyplot as plt\n",
        "%matplotlib inline\n",
        "import pandas as pd\n",
        "\n",
        "result = pd.DataFrame({'train_accuracy': tr_accuracy, 'test_accuracy' : test_accuracy})\n",
        "result.plot()\n",
        "plt.xticks(np.arange(10),np.arange(1,1000,100))\n",
        "plt.xlabel('epochs')\n",
        "plt.ylabel('accuracy')\n",
        "plt.title('train & test accuracy per epochs')\n",
        "plt.legend(loc='best')\n",
        "plt.show()"
      ],
      "execution_count": 12,
      "outputs": [
        {
          "output_type": "display_data",
          "data": {
            "image/png": "[encoded data removed]",
            "text/plain": [
              "<Figure size 432x288 with 1 Axes>"
            ]
          },
          "metadata": {
            "tags": []
          }
        }
      ]
    },
    {
      "cell_type": "markdown",
      "metadata": {
        "id": "rR5hTGgckhVh",
        "colab_type": "text"
      },
      "source": [
        "Training accuracy is above 0.9  \n",
        "Testing accuracy is between 0.5 and 0.6  \n",
        "Maybe somewhy, model is overfitted to training data.  \n",
        "I think applying regularization and normalization methods can solve this problem."
      ]
    },
    {
      "cell_type": "code",
      "metadata": {
        "id": "UM4wfRsz0td2",
        "colab_type": "code",
        "colab": {}
      },
      "source": [
        ""
      ],
      "execution_count": 0,
      "outputs": []
    }
  ]
}